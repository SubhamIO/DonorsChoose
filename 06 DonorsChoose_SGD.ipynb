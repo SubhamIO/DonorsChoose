{
 "cells": [
  {
   "cell_type": "markdown",
   "metadata": {},
   "source": [
    "##### https://www.kaggle.com/c/boston-housing\n",
    "\n",
    "Boston House Prices dataset\n",
    "--------------------------------------------\n",
    "\n",
    "#### Data Set Characteristics:  \n",
    "\n",
    "    :Number of Instances: 506 \n",
    "\n",
    "    :Number of Attributes: 13 numeric/categorical\n",
    "    \n",
    "    :Median Value (attribute 14) is usually the target\n",
    "\n",
    "    :Attribute Information (in order):\n",
    "        - CRIM     per capita crime rate by town\n",
    "        - ZN       proportion of residential land zoned for lots over 25,000 sq.ft.\n",
    "        - INDUS    proportion of non-retail business acres per town\n",
    "        - CHAS     Charles River dummy variable (= 1 if tract bounds river; 0 otherwise)\n",
    "        - NOX      nitric oxides concentration (parts per 10 million)\n",
    "        - RM       average number of rooms per dwelling\n",
    "        - AGE      proportion of owner-occupied units built prior to 1940\n",
    "        - DIS      weighted distances to five Boston employment centres\n",
    "        - RAD      index of accessibility to radial highways\n",
    "        - TAX      full-value property-tax rate per $10,000\n",
    "        - PTRATIO  pupil-teacher ratio by town\n",
    "        - B        1000(Bk - 0.63)^2 where Bk is the proportion of blacks by town\n",
    "        - LSTAT    % lower status of the population\n",
    "        - MEDV     Median value of owner-occupied homes in $1000's\n",
    "\n",
    "    :Missing Attribute Values: None\n",
    "\n",
    "    :Creator: Harrison, D. and Rubinfeld, D.L.\n",
    "\n",
    "This is a copy of UCI ML housing dataset.\n",
    "http://archive.ics.uci.edu/ml/datasets/Housing\n",
    "\n",
    "\n",
    "This dataset was taken from the StatLib library which is maintained at Carnegie Mellon University.\n",
    "\n",
    "The Boston house-price data of Harrison, D. and Rubinfeld, D.L. 'Hedonic\n",
    "prices and the demand for clean air', J. Environ. Economics & Management,\n",
    "vol.5, 81-102, 1978.   Used in Belsley, Kuh & Welsch, 'Regression diagnostics\n",
    "...', Wiley, 1980.   N.B. Various transformations are used in the table on\n",
    "pages 244-261 of the latter.\n",
    "\n",
    "The Boston house-price data has been used in many machine learning papers that address regression\n",
    "problems.   \n",
    "     \n",
    "\n"
   ]
  },
  {
   "cell_type": "code",
   "execution_count": 1,
   "metadata": {},
   "outputs": [
    {
     "name": "stderr",
     "output_type": "stream",
     "text": [
      "C:\\Users\\kingsubham27091995\\Anaconda3\\lib\\site-packages\\sklearn\\cross_validation.py:41: DeprecationWarning: This module was deprecated in version 0.18 in favor of the model_selection module into which all the refactored classes and functions are moved. Also note that the interface of the new CV iterators are different from that of this module. This module will be removed in 0.20.\n",
      "  \"This module will be removed in 0.20.\", DeprecationWarning)\n"
     ]
    }
   ],
   "source": [
    "import warnings\n",
    "warnings.filterwarnings('ignore')\n",
    "import numpy as np\n",
    "from sklearn.preprocessing import StandardScaler\n",
    "from sklearn.cross_validation import train_test_split\n",
    "import seaborn as sns\n",
    "import numpy as np\n",
    "from sklearn.linear_model import SGDRegressor\n",
    "from sklearn.metrics import mean_squared_error\n",
    "import matplotlib.pyplot as plt\n",
    "%matplotlib inline"
   ]
  },
  {
   "cell_type": "code",
   "execution_count": 2,
   "metadata": {},
   "outputs": [],
   "source": [
    "# loading boston datasets\n",
    "from sklearn.datasets import load_boston\n",
    "import pandas as pd\n"
   ]
  },
  {
   "cell_type": "code",
   "execution_count": 3,
   "metadata": {},
   "outputs": [],
   "source": [
    "# spliting the data into train and test\n",
    "\n",
    "boston_data=pd.DataFrame(data=load_boston().data)\n",
    "price_data=load_boston().target\n",
    "X_train, X_test, y_train, y_test=train_test_split(boston_data, price_data, test_size=0.33, random_state=5)"
   ]
  },
  {
   "cell_type": "code",
   "execution_count": 4,
   "metadata": {},
   "outputs": [],
   "source": [
    "# applying column standardization on train and test data\n",
    "# standardization sklearn: https://scikit-learn.org/stable/modules/generated/sklearn.preprocessing.StandardScaler.html\n",
    "scalar=StandardScaler()\n",
    "X_train=scalar.fit_transform(np.array(X_train))\n",
    "X_test=scalar.transform(np.array(X_test))\n"
   ]
  },
  {
   "cell_type": "code",
   "execution_count": 5,
   "metadata": {},
   "outputs": [],
   "source": [
    "#preparing training data for manual sgd regressor\n",
    "manual_train=pd.DataFrame(data=X_train)\n",
    "manual_train['price']=y_train\n"
   ]
  },
  {
   "cell_type": "code",
   "execution_count": 6,
   "metadata": {},
   "outputs": [
    {
     "data": {
      "text/html": [
       "<div>\n",
       "<style scoped>\n",
       "    .dataframe tbody tr th:only-of-type {\n",
       "        vertical-align: middle;\n",
       "    }\n",
       "\n",
       "    .dataframe tbody tr th {\n",
       "        vertical-align: top;\n",
       "    }\n",
       "\n",
       "    .dataframe thead th {\n",
       "        text-align: right;\n",
       "    }\n",
       "</style>\n",
       "<table border=\"1\" class=\"dataframe\">\n",
       "  <thead>\n",
       "    <tr style=\"text-align: right;\">\n",
       "      <th></th>\n",
       "      <th>0</th>\n",
       "      <th>1</th>\n",
       "      <th>2</th>\n",
       "      <th>3</th>\n",
       "      <th>4</th>\n",
       "      <th>5</th>\n",
       "      <th>6</th>\n",
       "      <th>7</th>\n",
       "      <th>8</th>\n",
       "      <th>9</th>\n",
       "      <th>10</th>\n",
       "      <th>11</th>\n",
       "      <th>12</th>\n",
       "      <th>price</th>\n",
       "    </tr>\n",
       "  </thead>\n",
       "  <tbody>\n",
       "    <tr>\n",
       "      <th>0</th>\n",
       "      <td>0.911839</td>\n",
       "      <td>-0.502419</td>\n",
       "      <td>1.072305</td>\n",
       "      <td>-0.256978</td>\n",
       "      <td>1.633548</td>\n",
       "      <td>0.486034</td>\n",
       "      <td>0.962774</td>\n",
       "      <td>-0.823477</td>\n",
       "      <td>1.655334</td>\n",
       "      <td>1.552100</td>\n",
       "      <td>0.808078</td>\n",
       "      <td>-2.842959</td>\n",
       "      <td>1.523203</td>\n",
       "      <td>13.4</td>\n",
       "    </tr>\n",
       "    <tr>\n",
       "      <th>1</th>\n",
       "      <td>-0.411727</td>\n",
       "      <td>-0.502419</td>\n",
       "      <td>-1.129795</td>\n",
       "      <td>-0.256978</td>\n",
       "      <td>-0.552451</td>\n",
       "      <td>1.028078</td>\n",
       "      <td>0.668619</td>\n",
       "      <td>-0.183274</td>\n",
       "      <td>-0.871371</td>\n",
       "      <td>-0.802704</td>\n",
       "      <td>-0.304174</td>\n",
       "      <td>0.427436</td>\n",
       "      <td>-0.995240</td>\n",
       "      <td>23.6</td>\n",
       "    </tr>\n",
       "    <tr>\n",
       "      <th>2</th>\n",
       "      <td>0.124583</td>\n",
       "      <td>-0.502419</td>\n",
       "      <td>1.072305</td>\n",
       "      <td>-0.256978</td>\n",
       "      <td>1.441946</td>\n",
       "      <td>-3.913414</td>\n",
       "      <td>0.725324</td>\n",
       "      <td>-1.075955</td>\n",
       "      <td>1.655334</td>\n",
       "      <td>1.552100</td>\n",
       "      <td>0.808078</td>\n",
       "      <td>-0.053353</td>\n",
       "      <td>-0.765646</td>\n",
       "      <td>27.5</td>\n",
       "    </tr>\n",
       "  </tbody>\n",
       "</table>\n",
       "</div>"
      ],
      "text/plain": [
       "          0         1         2         3         4         5         6  \\\n",
       "0  0.911839 -0.502419  1.072305 -0.256978  1.633548  0.486034  0.962774   \n",
       "1 -0.411727 -0.502419 -1.129795 -0.256978 -0.552451  1.028078  0.668619   \n",
       "2  0.124583 -0.502419  1.072305 -0.256978  1.441946 -3.913414  0.725324   \n",
       "\n",
       "          7         8         9        10        11        12  price  \n",
       "0 -0.823477  1.655334  1.552100  0.808078 -2.842959  1.523203   13.4  \n",
       "1 -0.183274 -0.871371 -0.802704 -0.304174  0.427436 -0.995240   23.6  \n",
       "2 -1.075955  1.655334  1.552100  0.808078 -0.053353 -0.765646   27.5  "
      ]
     },
     "execution_count": 6,
     "metadata": {},
     "output_type": "execute_result"
    }
   ],
   "source": [
    "manual_train.head(3)"
   ]
  },
  {
   "cell_type": "code",
   "execution_count": 7,
   "metadata": {},
   "outputs": [],
   "source": [
    "# converting to numpy array, which will be available for both SGDRegressor of sklearn and manual sgd regressor\n",
    "X_test=np.array(X_test)\n",
    "y_test=np.array(y_test)"
   ]
  },
  {
   "cell_type": "code",
   "execution_count": 8,
   "metadata": {},
   "outputs": [],
   "source": [
    "results=pd.DataFrame(columns=['S_No', 'Algorithm', 'Alpha', 'LearningRateVariation', 'Learning Rate', 'Power_t', 'No. of Iterations', 'Mean Squared Error','Weights'])"
   ]
  },
  {
   "cell_type": "markdown",
   "metadata": {},
   "source": [
    "# SGDRegressor vs Manual SGD\n",
    "\n"
   ]
  },
  {
   "cell_type": "markdown",
   "metadata": {},
   "source": [
    "### A) Fixing learning rate(eta0) to 0.01 and Learning Rate Variation='Constant'"
   ]
  },
  {
   "cell_type": "markdown",
   "metadata": {},
   "source": [
    "## SGDRegressor\n",
    "- -----------------------------------"
   ]
  },
  {
   "cell_type": "code",
   "execution_count": 9,
   "metadata": {},
   "outputs": [],
   "source": [
    "#the functioning of this function is to use sklearn SGDRegressor and predict the price\n",
    "#this function takes alpha, learning rate variation , initial learning rate(eta0), number of iteration , power_t, and all test and train data as an argument\n",
    "#this function returns weight, intercept and mean squared error\n",
    "def sklearn_sgd(alpha, lr_rate_variation, eta0=0.01, power_t=0.25, n_iter=100, X_train=X_train, X_test=X_test, y_train=y_train, y_test=y_test):\n",
    "    clf=SGDRegressor(alpha=alpha, penalty=None, learning_rate=lr_rate_variation, eta0=eta0, power_t=power_t, n_iter=n_iter)\n",
    "    clf.fit(X_train, y_train)\n",
    "    y_pred=clf.predict(X_test)\n",
    "    \n",
    "    #scatter plot\n",
    "    plt.scatter(y_test,y_pred)\n",
    "    plt.title('Plot between Actual y and Predicted y')\n",
    "    plt.xlabel('Actual y')\n",
    "    plt.ylabel('Predicted y')\n",
    "    plt.grid(b=True, linewidth=0.5)\n",
    "    plt.show()\n",
    "    \n",
    "    \n",
    "    ## Mean Squared Error(MSE)   \n",
    "    mse=mean_squared_error(y_test,y_pred)\n",
    "    print('mean sq error=', mse)\n",
    "    print('number of iteration=', n_iter)\n",
    "    print('Weight =',clf.coef_)\n",
    "    \n",
    "    return clf.coef_, clf.intercept_, mse\n",
    "    \n"
   ]
  },
  {
   "cell_type": "markdown",
   "metadata": {},
   "source": [
    "### 1. n_iter=1, lr_rate=0.01, lr_rate_variation='constant'"
   ]
  },
  {
   "cell_type": "code",
   "execution_count": 10,
   "metadata": {},
   "outputs": [
    {
     "name": "stderr",
     "output_type": "stream",
     "text": [
      "C:\\Users\\kingsubham27091995\\Anaconda3\\lib\\site-packages\\sklearn\\linear_model\\stochastic_gradient.py:117: DeprecationWarning: n_iter parameter is deprecated in 0.19 and will be removed in 0.21. Use max_iter and tol instead.\n",
      "  DeprecationWarning)\n"
     ]
    },
    {
     "data": {
      "image/png": "[encoded data removed]",
      "text/plain": [
       "<Figure size 432x288 with 1 Axes>"
      ]
     },
     "metadata": {},
     "output_type": "display_data"
    },
    {
     "name": "stdout",
     "output_type": "stream",
     "text": [
      "mean sq error= 28.85059286297685\n",
      "number of iteration= 1\n",
      "Weight = [-1.15653814  0.66974888 -0.08178764  0.6382138  -0.66797691  2.95215349\n",
      " -0.10357986 -1.93735889  1.12825615 -0.2267697  -1.78106711  0.95286871\n",
      " -2.90881683]\n"
     ]
    }
   ],
   "source": [
    "w_sgd, b_sgd, error_sgd=sklearn_sgd(alpha=0.0001, lr_rate_variation='constant', eta0=0.01, n_iter=1)"
   ]
  },
  {
   "cell_type": "code",
   "execution_count": 11,
   "metadata": {},
   "outputs": [],
   "source": [
    "new=[1, 'SGDRegressor', 0.0001, 'constant', 0.01, 0.25, 1, error_sgd,w_sgd]\n",
    "results.loc[0]=new"
   ]
  },
  {
   "cell_type": "markdown",
   "metadata": {},
   "source": [
    "###  2. n_iter=100, lr_rate=0.01, lr_rate_variation='constant'"
   ]
  },
  {
   "cell_type": "code",
   "execution_count": 12,
   "metadata": {},
   "outputs": [
    {
     "name": "stderr",
     "output_type": "stream",
     "text": [
      "C:\\Users\\kingsubham27091995\\Anaconda3\\lib\\site-packages\\sklearn\\linear_model\\stochastic_gradient.py:117: DeprecationWarning: n_iter parameter is deprecated in 0.19 and will be removed in 0.21. Use max_iter and tol instead.\n",
      "  DeprecationWarning)\n"
     ]
    },
    {
     "data": {
      "image/png": "[encoded data removed]",
      "text/plain": [
       "<Figure size 432x288 with 1 Axes>"
      ]
     },
     "metadata": {},
     "output_type": "display_data"
    },
    {
     "name": "stdout",
     "output_type": "stream",
     "text": [
      "mean sq error= 31.35249232605329\n",
      "number of iteration= 100\n",
      "Weight = [-0.85942537  0.72320993  0.15241913 -0.20932514 -1.58958236  2.10220312\n",
      " -0.42111051 -2.62106115  2.84313703 -2.11489664 -1.95183196  0.66487723\n",
      " -2.91904308]\n"
     ]
    }
   ],
   "source": [
    "w_sgd, b_sgd, error_sgd=sklearn_sgd(alpha=0.0001, lr_rate_variation='constant', eta0=0.01, n_iter=100)"
   ]
  },
  {
   "cell_type": "code",
   "execution_count": 13,
   "metadata": {},
   "outputs": [],
   "source": [
    "new=[3, 'SGDRegressor', 0.0001, 'constant', 0.01, 0.25, 100, error_sgd,w_sgd]\n",
    "results.loc[1]=new"
   ]
  },
  {
   "cell_type": "markdown",
   "metadata": {},
   "source": [
    "### 3. n_iter=1000, lr_rate=0.01, lr_rate_variation='constant'"
   ]
  },
  {
   "cell_type": "code",
   "execution_count": 14,
   "metadata": {},
   "outputs": [
    {
     "name": "stderr",
     "output_type": "stream",
     "text": [
      "C:\\Users\\kingsubham27091995\\Anaconda3\\lib\\site-packages\\sklearn\\linear_model\\stochastic_gradient.py:117: DeprecationWarning: n_iter parameter is deprecated in 0.19 and will be removed in 0.21. Use max_iter and tol instead.\n",
      "  DeprecationWarning)\n"
     ]
    },
    {
     "data": {
      "image/png": "[encoded data removed]",
      "text/plain": [
       "<Figure size 432x288 with 1 Axes>"
      ]
     },
     "metadata": {},
     "output_type": "display_data"
    },
    {
     "name": "stdout",
     "output_type": "stream",
     "text": [
      "mean sq error= 27.446322247880957\n",
      "number of iteration= 1000\n",
      "Weight = [-0.84902213  0.72743498 -0.21789725  0.29233084 -1.48915036  2.91588396\n",
      " -0.14761927 -3.05222565  3.30506591 -2.10578481 -2.12863861  1.364138\n",
      " -3.49369362]\n"
     ]
    }
   ],
   "source": [
    "w_sgd, b_sgd, error_sgd=sklearn_sgd(alpha=0.0001, lr_rate_variation='constant', eta0=0.01, n_iter=1000)"
   ]
  },
  {
   "cell_type": "code",
   "execution_count": 15,
   "metadata": {},
   "outputs": [],
   "source": [
    "new=[5, 'SGDRegressor', 0.0001, 'constant', 0.01, 0.25, 1000, error_sgd,w_sgd]\n",
    "results.loc[2]=new"
   ]
  },
  {
   "cell_type": "markdown",
   "metadata": {},
   "source": [
    "### 4. n_iter=10000, lr_rate=0.01, lr_rate_variation='constant'"
   ]
  },
  {
   "cell_type": "code",
   "execution_count": 16,
   "metadata": {},
   "outputs": [
    {
     "name": "stderr",
     "output_type": "stream",
     "text": [
      "C:\\Users\\kingsubham27091995\\Anaconda3\\lib\\site-packages\\sklearn\\linear_model\\stochastic_gradient.py:117: DeprecationWarning: n_iter parameter is deprecated in 0.19 and will be removed in 0.21. Use max_iter and tol instead.\n",
      "  DeprecationWarning)\n"
     ]
    },
    {
     "data": {
      "image/png": "[encoded data removed]",
      "text/plain": [
       "<Figure size 432x288 with 1 Axes>"
      ]
     },
     "metadata": {},
     "output_type": "display_data"
    },
    {
     "name": "stdout",
     "output_type": "stream",
     "text": [
      "mean sq error= 27.99941966239229\n",
      "number of iteration= 10000\n",
      "Weight = [-1.13517669  0.86647558 -0.10205221  0.38522716 -1.21459202  3.35612688\n",
      " -0.17778189 -2.97663963  3.13116798 -2.18736619 -1.95867899  1.27876781\n",
      " -3.66442607]\n"
     ]
    }
   ],
   "source": [
    "w_sgd, b_sgd, error_sgd=sklearn_sgd(alpha=0.0001, lr_rate_variation='constant', eta0=0.01, n_iter=10000)"
   ]
  },
  {
   "cell_type": "code",
   "execution_count": 17,
   "metadata": {},
   "outputs": [],
   "source": [
    "new=[7, 'SGDRegressor', 0.0001, 'constant', 0.01, 0.25, 10000, error_sgd,w_sgd]\n",
    "results.loc[3]=new"
   ]
  },
  {
   "cell_type": "markdown",
   "metadata": {},
   "source": [
    "## Manual SGD\n",
    "- ---------------------------"
   ]
  },
  {
   "cell_type": "code",
   "execution_count": 47,
   "metadata": {},
   "outputs": [],
   "source": [
    "# this function is a simple implementation of sgd to linear regression, here we didn't use any regularization\n",
    "# we need to provide the pandas data with price, initial learning rate , and learning rate variation, number of iteration\n",
    "# here we have implemented constant learning rate and invscaling learning rate\n",
    "# checking the significant difference in loss i.e stopping condition might take lots of time so here we fix the number of loop \n",
    "# this function returns weight (w) and bias (b)\n",
    "# here we have taken sgd with batch size=10\n",
    "def manual_fit(X, lr_rate_variation, alpha=0.0001, lr_rate=0.01, power_t=0.25, n_iter=100):\n",
    "    w_new=np.zeros(shape=(1,13))\n",
    "    b_new=0\n",
    "    t=1\n",
    "    r=lr_rate\n",
    "    \n",
    "    while(t<=n_iter):\n",
    "        w_old=w_new\n",
    "        b_old=b_new\n",
    "        w_=np.zeros(shape=(1,13))\n",
    "        b_=0\n",
    "        x_data=X.sample(10)\n",
    "        x=np.array(x_data.drop('price',axis=1))\n",
    "        y=np.array(x_data['price'])\n",
    "        \n",
    "        \n",
    "        for i in range(10):  # for getting the derivatives using sgd with k=10\n",
    "            y_curr=np.dot(w_old,x[i])+b_old\n",
    "            w_+=x[i] * (y[i] - y_curr)\n",
    "            b_+=(y[i]-y_curr)\n",
    "            \n",
    "            \n",
    "        w_*=(-2/x.shape[0])\n",
    "        b_*=(-2/x.shape[0])\n",
    "        \n",
    "        #updating the parameters\n",
    "        w_new=(w_old-r*w_)\n",
    "        b_new=(b_old-r*b_)\n",
    "        \n",
    "        \n",
    "        if(lr_rate_variation=='invscaling'):\n",
    "            r = lr_rate / pow(t, power_t)\n",
    "        t+=1\n",
    "        \n",
    "        \n",
    "        \n",
    "    return w_new, b_new\n",
    "\n",
    "\n",
    "\n",
    "def pred(x,w, b):\n",
    "    y_pred=[]\n",
    "    for i in range(len(x)):\n",
    "        y=np.asscalar(np.dot(w,x[i])+b)\n",
    "        y_pred.append(y)\n",
    "    return np.array(y_pred)\n",
    "\n",
    "\n",
    "def plot_(X_test,y_pred):\n",
    "    #scatter plot\n",
    "    plt.scatter(y_test,y_pred)\n",
    "    plt.grid(b=True, linewidth=0.3)\n",
    "    plt.title('scatter plot between actual y and predicted y')\n",
    "    plt.xlabel('Actual y')\n",
    "    plt.ylabel('Predicted y')\n",
    "    plt.show()\n",
    "    \n",
    "    \n",
    "    \n",
    "       ## Mean Squared Error\n",
    "    mse_manual=mean_squared_error(y_test,y_pred)\n",
    "    print('error=',mse_manual)\n",
    "    \n",
    "    \n",
    "    return mse_manual\n"
   ]
  },
  {
   "cell_type": "markdown",
   "metadata": {},
   "source": [
    "### 1. n_iter=1, lr_rate=0.01, lr_rate_variation='constant'"
   ]
  },
  {
   "cell_type": "code",
   "execution_count": 49,
   "metadata": {},
   "outputs": [
    {
     "data": {
      "image/png": "[encoded data removed]",
      "text/plain": [
       "<Figure size 432x288 with 1 Axes>"
      ]
     },
     "metadata": {},
     "output_type": "display_data"
    },
    {
     "name": "stdout",
     "output_type": "stream",
     "text": [
      "error= 571.8648648792249\n",
      "Weights [[-0.11021193  0.19132733 -0.07735062  0.15245408 -0.09181451 -0.00957943\n",
      "  -0.20430057  0.09798866 -0.04102483 -0.01402332 -0.11377034 -0.01153909\n",
      "  -0.26066012]]\n"
     ]
    }
   ],
   "source": [
    "w, b=manual_fit(X=manual_train, lr_rate_variation='constant' , n_iter=1)\n",
    "y_pred=pred(X_test, w=w, b=b)\n",
    "manual_error=plot_(X_test,y_pred)\n",
    "print('Weights',w)"
   ]
  },
  {
   "cell_type": "code",
   "execution_count": 20,
   "metadata": {},
   "outputs": [],
   "source": [
    "new=[2, 'manual sgd', 0.0001, 'constant', 0.01, 0.25, 1, manual_error,w]\n",
    "results.loc[4]=new"
   ]
  },
  {
   "cell_type": "markdown",
   "metadata": {},
   "source": [
    "### 2.  n_iter=100, lr_rate=0.01, lr_rate_variation='constant'"
   ]
  },
  {
   "cell_type": "code",
   "execution_count": 50,
   "metadata": {},
   "outputs": [
    {
     "data": {
      "image/png": "[encoded data removed]",
      "text/plain": [
       "<Figure size 432x288 with 1 Axes>"
      ]
     },
     "metadata": {},
     "output_type": "display_data"
    },
    {
     "name": "stdout",
     "output_type": "stream",
     "text": [
      "error= 45.247347985147584\n",
      "Weights [[-0.91092393 -0.39865859 -0.46309491  0.46539623 -0.33274583  3.75372959\n",
      "  -0.59358478 -1.14425155 -0.12028126 -0.55272547 -1.97045747  0.03828791\n",
      "  -2.48473031]]\n"
     ]
    }
   ],
   "source": [
    "w, b=manual_fit(X=manual_train, lr_rate_variation='constant' , n_iter=100)\n",
    "y_pred=pred(X_test, w=w, b=b)\n",
    "manual_error=plot_(X_test,y_pred)\n",
    "print('Weights',w)"
   ]
  },
  {
   "cell_type": "code",
   "execution_count": 23,
   "metadata": {},
   "outputs": [],
   "source": [
    "new=[4, 'manual sgd', 0.0001, 'constant', 0.01, 0.25, 100, manual_error,w]\n",
    "results.loc[5]=new"
   ]
  },
  {
   "cell_type": "markdown",
   "metadata": {},
   "source": [
    "### 3. n_iter=1000, lr_rate=0.01, lr_rate_variation='constant'"
   ]
  },
  {
   "cell_type": "code",
   "execution_count": 51,
   "metadata": {},
   "outputs": [
    {
     "data": {
      "image/png": "[encoded data removed]",
      "text/plain": [
       "<Figure size 432x288 with 1 Axes>"
      ]
     },
     "metadata": {},
     "output_type": "display_data"
    },
    {
     "name": "stdout",
     "output_type": "stream",
     "text": [
      "error= 27.237459972956998\n",
      "Weights [[-1.09842893  0.71713151 -0.34491403  0.43390619 -1.51403988  3.07271161\n",
      "  -0.30475742 -2.93154794  2.52490091 -1.23061076 -2.28491024  1.15251541\n",
      "  -3.44014592]]\n"
     ]
    }
   ],
   "source": [
    "w, b=manual_fit(X=manual_train, lr_rate_variation='constant' , n_iter=1000)\n",
    "y_pred=pred(X_test, w=w, b=b)\n",
    "manual_error=plot_(X_test,y_pred)\n",
    "print('Weights',w)"
   ]
  },
  {
   "cell_type": "code",
   "execution_count": 25,
   "metadata": {},
   "outputs": [],
   "source": [
    "new=[6, 'manual sgd', 0.0001, 'constant', 0.01, 0.25, 1000, manual_error,w]\n",
    "results.loc[6]=new"
   ]
  },
  {
   "cell_type": "markdown",
   "metadata": {},
   "source": [
    "### 4. n_iter=10000, lr_rate=0.01, lr_rate_variation='constant'"
   ]
  },
  {
   "cell_type": "code",
   "execution_count": 52,
   "metadata": {},
   "outputs": [
    {
     "data": {
      "image/png": "[encoded data removed]",
      "text/plain": [
       "<Figure size 432x288 with 1 Axes>"
      ]
     },
     "metadata": {},
     "output_type": "display_data"
    },
    {
     "name": "stdout",
     "output_type": "stream",
     "text": [
      "error= 28.911523488569138\n",
      "Weights [[-1.2810705   0.62158022 -0.2314401   0.21230283 -1.29425501  3.02833457\n",
      "  -0.28493935 -2.74803533  2.73872941 -2.29892697 -2.12457975  1.07042602\n",
      "  -3.27696886]]\n"
     ]
    }
   ],
   "source": [
    "w, b=manual_fit(X=manual_train, lr_rate_variation='constant' , n_iter=10000)\n",
    "y_pred=pred(X_test, w=w, b=b)\n",
    "manual_error=plot_(X_test,y_pred)\n",
    "print('Weights',w)"
   ]
  },
  {
   "cell_type": "code",
   "execution_count": 27,
   "metadata": {},
   "outputs": [],
   "source": [
    "new=[8, 'manual sgd', 0.0001, 'constant', 0.01, 0.25, 10000, manual_error,w]\n",
    "results.loc[7]=new"
   ]
  },
  {
   "cell_type": "code",
   "execution_count": 28,
   "metadata": {},
   "outputs": [
    {
     "data": {
      "text/html": [
       "<div>\n",
       "<style scoped>\n",
       "    .dataframe tbody tr th:only-of-type {\n",
       "        vertical-align: middle;\n",
       "    }\n",
       "\n",
       "    .dataframe tbody tr th {\n",
       "        vertical-align: top;\n",
       "    }\n",
       "\n",
       "    .dataframe thead th {\n",
       "        text-align: right;\n",
       "    }\n",
       "</style>\n",
       "<table border=\"1\" class=\"dataframe\">\n",
       "  <thead>\n",
       "    <tr style=\"text-align: right;\">\n",
       "      <th></th>\n",
       "      <th>S_No</th>\n",
       "      <th>Algorithm</th>\n",
       "      <th>Alpha</th>\n",
       "      <th>LearningRateVariation</th>\n",
       "      <th>Learning Rate</th>\n",
       "      <th>Power_t</th>\n",
       "      <th>No. of Iterations</th>\n",
       "      <th>Mean Squared Error</th>\n",
       "      <th>Weights</th>\n",
       "    </tr>\n",
       "  </thead>\n",
       "  <tbody>\n",
       "    <tr>\n",
       "      <th>0</th>\n",
       "      <td>1</td>\n",
       "      <td>SGDRegressor</td>\n",
       "      <td>0.0001</td>\n",
       "      <td>constant</td>\n",
       "      <td>0.01</td>\n",
       "      <td>0.25</td>\n",
       "      <td>1</td>\n",
       "      <td>28.850593</td>\n",
       "      <td>[-1.1565381407732438, 0.6697488843919033, -0.0...</td>\n",
       "    </tr>\n",
       "    <tr>\n",
       "      <th>1</th>\n",
       "      <td>3</td>\n",
       "      <td>SGDRegressor</td>\n",
       "      <td>0.0001</td>\n",
       "      <td>constant</td>\n",
       "      <td>0.01</td>\n",
       "      <td>0.25</td>\n",
       "      <td>100</td>\n",
       "      <td>31.352492</td>\n",
       "      <td>[-0.8594253660728869, 0.7232099282317112, 0.15...</td>\n",
       "    </tr>\n",
       "    <tr>\n",
       "      <th>2</th>\n",
       "      <td>5</td>\n",
       "      <td>SGDRegressor</td>\n",
       "      <td>0.0001</td>\n",
       "      <td>constant</td>\n",
       "      <td>0.01</td>\n",
       "      <td>0.25</td>\n",
       "      <td>1000</td>\n",
       "      <td>27.446322</td>\n",
       "      <td>[-0.8490221325906337, 0.7274349802523941, -0.2...</td>\n",
       "    </tr>\n",
       "    <tr>\n",
       "      <th>3</th>\n",
       "      <td>7</td>\n",
       "      <td>SGDRegressor</td>\n",
       "      <td>0.0001</td>\n",
       "      <td>constant</td>\n",
       "      <td>0.01</td>\n",
       "      <td>0.25</td>\n",
       "      <td>10000</td>\n",
       "      <td>27.999420</td>\n",
       "      <td>[-1.135176685101957, 0.8664755810330862, -0.10...</td>\n",
       "    </tr>\n",
       "    <tr>\n",
       "      <th>4</th>\n",
       "      <td>2</td>\n",
       "      <td>manual sgd</td>\n",
       "      <td>0.0001</td>\n",
       "      <td>constant</td>\n",
       "      <td>0.01</td>\n",
       "      <td>0.25</td>\n",
       "      <td>1</td>\n",
       "      <td>570.095994</td>\n",
       "      <td>[[-0.16385130745117604, 0.08744690043599387, -...</td>\n",
       "    </tr>\n",
       "    <tr>\n",
       "      <th>5</th>\n",
       "      <td>4</td>\n",
       "      <td>manual sgd</td>\n",
       "      <td>0.0001</td>\n",
       "      <td>constant</td>\n",
       "      <td>0.01</td>\n",
       "      <td>0.25</td>\n",
       "      <td>100</td>\n",
       "      <td>39.942861</td>\n",
       "      <td>[[-0.6219409715223574, 0.7468919969577941, -0....</td>\n",
       "    </tr>\n",
       "    <tr>\n",
       "      <th>6</th>\n",
       "      <td>6</td>\n",
       "      <td>manual sgd</td>\n",
       "      <td>0.0001</td>\n",
       "      <td>constant</td>\n",
       "      <td>0.01</td>\n",
       "      <td>0.25</td>\n",
       "      <td>1000</td>\n",
       "      <td>28.414085</td>\n",
       "      <td>[[-1.2674707278739434, 0.7273049238948522, -0....</td>\n",
       "    </tr>\n",
       "    <tr>\n",
       "      <th>7</th>\n",
       "      <td>8</td>\n",
       "      <td>manual sgd</td>\n",
       "      <td>0.0001</td>\n",
       "      <td>constant</td>\n",
       "      <td>0.01</td>\n",
       "      <td>0.25</td>\n",
       "      <td>10000</td>\n",
       "      <td>27.826577</td>\n",
       "      <td>[[-1.2047934560688556, 0.9175234573905571, -0....</td>\n",
       "    </tr>\n",
       "  </tbody>\n",
       "</table>\n",
       "</div>"
      ],
      "text/plain": [
       "  S_No     Algorithm   Alpha LearningRateVariation  Learning Rate  Power_t  \\\n",
       "0    1  SGDRegressor  0.0001              constant           0.01     0.25   \n",
       "1    3  SGDRegressor  0.0001              constant           0.01     0.25   \n",
       "2    5  SGDRegressor  0.0001              constant           0.01     0.25   \n",
       "3    7  SGDRegressor  0.0001              constant           0.01     0.25   \n",
       "4    2    manual sgd  0.0001              constant           0.01     0.25   \n",
       "5    4    manual sgd  0.0001              constant           0.01     0.25   \n",
       "6    6    manual sgd  0.0001              constant           0.01     0.25   \n",
       "7    8    manual sgd  0.0001              constant           0.01     0.25   \n",
       "\n",
       "  No. of Iterations  Mean Squared Error  \\\n",
       "0                 1           28.850593   \n",
       "1               100           31.352492   \n",
       "2              1000           27.446322   \n",
       "3             10000           27.999420   \n",
       "4                 1          570.095994   \n",
       "5               100           39.942861   \n",
       "6              1000           28.414085   \n",
       "7             10000           27.826577   \n",
       "\n",
       "                                             Weights  \n",
       "0  [-1.1565381407732438, 0.6697488843919033, -0.0...  \n",
       "1  [-0.8594253660728869, 0.7232099282317112, 0.15...  \n",
       "2  [-0.8490221325906337, 0.7274349802523941, -0.2...  \n",
       "3  [-1.135176685101957, 0.8664755810330862, -0.10...  \n",
       "4  [[-0.16385130745117604, 0.08744690043599387, -...  \n",
       "5  [[-0.6219409715223574, 0.7468919969577941, -0....  \n",
       "6  [[-1.2674707278739434, 0.7273049238948522, -0....  \n",
       "7  [[-1.2047934560688556, 0.9175234573905571, -0....  "
      ]
     },
     "execution_count": 28,
     "metadata": {},
     "output_type": "execute_result"
    }
   ],
   "source": [
    "results"
   ]
  },
  {
   "cell_type": "markdown",
   "metadata": {},
   "source": [
    "## Observation: \n",
    "1. Fixed learning rate to 0.01 and lr_rate_variation='constant', changed n_iter \n",
    "1. With increasing the number of iterations in ManualSGD,error is reducing.\n",
    "1. With increase in iteration the number of element, ManualSGD weight and SGDRegressor weight seems similar"
   ]
  },
  {
   "cell_type": "markdown",
   "metadata": {},
   "source": [
    "##  B) Using Learning Rate=0.01 , Learning rate variation='invscaling' and changing the n_iter"
   ]
  },
  {
   "cell_type": "markdown",
   "metadata": {},
   "source": [
    "## SGD Regressor\n",
    "- ---------------------------------"
   ]
  },
  {
   "cell_type": "markdown",
   "metadata": {},
   "source": [
    "### 1. n_iter=1, lr_rate=0.01, lr_rate_variation='invscaling'"
   ]
  },
  {
   "cell_type": "code",
   "execution_count": 29,
   "metadata": {},
   "outputs": [
    {
     "name": "stderr",
     "output_type": "stream",
     "text": [
      "C:\\Users\\kingsubham27091995\\Anaconda3\\lib\\site-packages\\sklearn\\linear_model\\stochastic_gradient.py:117: DeprecationWarning: n_iter parameter is deprecated in 0.19 and will be removed in 0.21. Use max_iter and tol instead.\n",
      "  DeprecationWarning)\n"
     ]
    },
    {
     "data": {
      "image/png": "[encoded data removed]",
      "text/plain": [
       "<Figure size 432x288 with 1 Axes>"
      ]
     },
     "metadata": {},
     "output_type": "display_data"
    },
    {
     "name": "stdout",
     "output_type": "stream",
     "text": [
      "mean sq error= 102.99765448462009\n",
      "number of iteration= 1\n",
      "Weight = [-0.88705515  0.5677459  -0.51420203  0.03466216 -0.02705333  2.6051155\n",
      " -0.28325903 -1.11081536 -0.12236553 -0.45599899 -1.61426258  0.653454\n",
      " -1.75822116]\n"
     ]
    }
   ],
   "source": [
    "w_sgd, b_sgd, error_sgd=sklearn_sgd(alpha=0.0001, lr_rate_variation='invscaling', eta0=0.01, n_iter=1)"
   ]
  },
  {
   "cell_type": "code",
   "execution_count": 31,
   "metadata": {},
   "outputs": [],
   "source": [
    "new=[9, 'SGDRegressor', 0.0001, 'invscaling', 0.01, 0.25, 1, error_sgd,w_sgd]\n",
    "results.loc[8]=new"
   ]
  },
  {
   "cell_type": "markdown",
   "metadata": {},
   "source": [
    "### 2. n_iter=100, lr_rate=0.01, lr_rate_variation='invscaling'"
   ]
  },
  {
   "cell_type": "code",
   "execution_count": 32,
   "metadata": {},
   "outputs": [
    {
     "name": "stderr",
     "output_type": "stream",
     "text": [
      "C:\\Users\\kingsubham27091995\\Anaconda3\\lib\\site-packages\\sklearn\\linear_model\\stochastic_gradient.py:117: DeprecationWarning: n_iter parameter is deprecated in 0.19 and will be removed in 0.21. Use max_iter and tol instead.\n",
      "  DeprecationWarning)\n"
     ]
    },
    {
     "data": {
      "image/png": "[encoded data removed]",
      "text/plain": [
       "<Figure size 432x288 with 1 Axes>"
      ]
     },
     "metadata": {},
     "output_type": "display_data"
    },
    {
     "name": "stdout",
     "output_type": "stream",
     "text": [
      "mean sq error= 28.449168811451475\n",
      "number of iteration= 100\n",
      "Weight = [-1.29336239  0.82854254 -0.27497766  0.20101891 -1.47344726  2.79825134\n",
      " -0.33875611 -2.79947307  2.61375872 -1.85723028 -2.12409713  1.0481751\n",
      " -3.31994023]\n"
     ]
    }
   ],
   "source": [
    "w_sgd, b_sgd, error_sgd=sklearn_sgd(alpha=0.0001, lr_rate_variation='invscaling', eta0=0.01, n_iter=100)"
   ]
  },
  {
   "cell_type": "code",
   "execution_count": 33,
   "metadata": {},
   "outputs": [],
   "source": [
    "new=[11, 'SGDRegressor', 0.0001, 'invscaling', 0.01, 0.25, 100, error_sgd,w_sgd]\n",
    "results.loc[9]=new"
   ]
  },
  {
   "cell_type": "markdown",
   "metadata": {},
   "source": [
    "### 3.  n_iter=1000, lr_rate=0.01, lr_rate_variation='invscaling'"
   ]
  },
  {
   "cell_type": "code",
   "execution_count": 34,
   "metadata": {},
   "outputs": [
    {
     "name": "stderr",
     "output_type": "stream",
     "text": [
      "C:\\Users\\kingsubham27091995\\Anaconda3\\lib\\site-packages\\sklearn\\linear_model\\stochastic_gradient.py:117: DeprecationWarning: n_iter parameter is deprecated in 0.19 and will be removed in 0.21. Use max_iter and tol instead.\n",
      "  DeprecationWarning)\n"
     ]
    },
    {
     "data": {
      "image/png": "[encoded data removed]",
      "text/plain": [
       "<Figure size 432x288 with 1 Axes>"
      ]
     },
     "metadata": {},
     "output_type": "display_data"
    },
    {
     "name": "stdout",
     "output_type": "stream",
     "text": [
      "mean sq error= 28.4216616039839\n",
      "number of iteration= 1000\n",
      "Weight = [-1.30239854  0.85222639 -0.15526577  0.18210707 -1.47615506  2.77713541\n",
      " -0.31543693 -2.78215437  2.99057655 -2.25975291 -2.12295185  1.04981189\n",
      " -3.32165927]\n"
     ]
    }
   ],
   "source": [
    "w_sgd, b_sgd, error_sgd=sklearn_sgd(alpha=0.0001, lr_rate_variation='invscaling', eta0=0.01, n_iter=1000)"
   ]
  },
  {
   "cell_type": "code",
   "execution_count": 35,
   "metadata": {},
   "outputs": [],
   "source": [
    "new=[13, 'SGDRegressor', 0.0001, 'invscaling', 0.01, 0.25, 1000, error_sgd,w_sgd]\n",
    "results.loc[10]=new"
   ]
  },
  {
   "cell_type": "markdown",
   "metadata": {},
   "source": [
    "### 4. n_iter=10000, lr_rate=0.01, lr_rate_variation='invscaling'"
   ]
  },
  {
   "cell_type": "code",
   "execution_count": 36,
   "metadata": {},
   "outputs": [
    {
     "name": "stderr",
     "output_type": "stream",
     "text": [
      "C:\\Users\\kingsubham27091995\\Anaconda3\\lib\\site-packages\\sklearn\\linear_model\\stochastic_gradient.py:117: DeprecationWarning: n_iter parameter is deprecated in 0.19 and will be removed in 0.21. Use max_iter and tol instead.\n",
      "  DeprecationWarning)\n"
     ]
    },
    {
     "data": {
      "image/png": "[encoded data removed]",
      "text/plain": [
       "<Figure size 432x288 with 1 Axes>"
      ]
     },
     "metadata": {},
     "output_type": "display_data"
    },
    {
     "name": "stdout",
     "output_type": "stream",
     "text": [
      "mean sq error= 28.59404884479356\n",
      "number of iteration= 10000\n",
      "Weight = [-1.31343832  0.86588662 -0.1722845   0.18760379 -1.49323433  2.79333583\n",
      " -0.32900798 -2.76801585  2.97317809 -2.27912365 -2.13716449  1.06037948\n",
      " -3.34155547]\n"
     ]
    }
   ],
   "source": [
    "w_sgd, b_sgd, error_sgd=sklearn_sgd(alpha=0.0001, lr_rate_variation='invscaling', eta0=0.01, n_iter=10000)"
   ]
  },
  {
   "cell_type": "code",
   "execution_count": 37,
   "metadata": {},
   "outputs": [],
   "source": [
    "new=[15, 'SGDRegressor', 0.0001, 'invscaling', 0.01, 0.25, 10000, error_sgd,w_sgd]\n",
    "results.loc[11]=new"
   ]
  },
  {
   "cell_type": "markdown",
   "metadata": {},
   "source": [
    "## Manual SGD\n",
    "- ----------------------------"
   ]
  },
  {
   "cell_type": "markdown",
   "metadata": {},
   "source": [
    "### 1. manual sgd, n_iter=1, lr_rate=0.01, lr_rate_variation='invscaling'"
   ]
  },
  {
   "cell_type": "code",
   "execution_count": 53,
   "metadata": {},
   "outputs": [
    {
     "data": {
      "image/png": "[encoded data removed]",
      "text/plain": [
       "<Figure size 432x288 with 1 Axes>"
      ]
     },
     "metadata": {},
     "output_type": "display_data"
    },
    {
     "name": "stdout",
     "output_type": "stream",
     "text": [
      "error= 579.7049068145751\n",
      "Weights [[-0.05181692  0.11972694  0.04467098 -0.10294542 -0.10252764  0.02233647\n",
      "  -0.16686319  0.11033126 -0.06713689 -0.02492568 -0.09296145 -0.02184467\n",
      "  -0.09250086]]\n"
     ]
    }
   ],
   "source": [
    "w, b=manual_fit(X=manual_train, lr_rate_variation='invscaling' , n_iter=1)\n",
    "y_pred=pred(X_test, w=w, b=b)\n",
    "manual_error=plot_(X_test,y_pred)\n",
    "print('Weights',w)"
   ]
  },
  {
   "cell_type": "code",
   "execution_count": 39,
   "metadata": {},
   "outputs": [],
   "source": [
    "new=[10, 'manual sgd', 0.0001, 'invscaling', 0.01, 0.25, 1, manual_error,w]\n",
    "results.loc[12]=new"
   ]
  },
  {
   "cell_type": "markdown",
   "metadata": {},
   "source": [
    "### 2. n_iter=100, lr_rate=0.01, lr_rate_variation='invscaling'"
   ]
  },
  {
   "cell_type": "code",
   "execution_count": 54,
   "metadata": {},
   "outputs": [
    {
     "data": {
      "image/png": "[encoded data removed]",
      "text/plain": [
       "<Figure size 432x288 with 1 Axes>"
      ]
     },
     "metadata": {},
     "output_type": "display_data"
    },
    {
     "name": "stdout",
     "output_type": "stream",
     "text": [
      "error= 133.50034593501866\n",
      "Weights [[-0.26878887  0.87360261 -0.57196422  0.45583587 -0.22374996  2.68056001\n",
      "   0.23336127 -0.5546656  -0.06070142 -0.7084285  -1.79297507  0.84340591\n",
      "  -1.60932098]]\n"
     ]
    }
   ],
   "source": [
    "w, b=manual_fit(X=manual_train, lr_rate_variation='invscaling' , n_iter=100)\n",
    "y_pred=pred(X_test, w=w, b=b)\n",
    "manual_error=plot_(X_test,y_pred)\n",
    "print('Weights',w)"
   ]
  },
  {
   "cell_type": "code",
   "execution_count": 41,
   "metadata": {},
   "outputs": [],
   "source": [
    "new=[12, 'manual sgd', 0.0001, 'invscaling', 0.01, 0.25, 100, manual_error,w]\n",
    "results.loc[13]=new"
   ]
  },
  {
   "cell_type": "markdown",
   "metadata": {},
   "source": [
    "### 3. n_iter=1000, lr_rate=0.01, lr_rate_variation='invscaling'"
   ]
  },
  {
   "cell_type": "code",
   "execution_count": 55,
   "metadata": {},
   "outputs": [
    {
     "data": {
      "image/png": "[encoded data removed]",
      "text/plain": [
       "<Figure size 432x288 with 1 Axes>"
      ]
     },
     "metadata": {},
     "output_type": "display_data"
    },
    {
     "name": "stdout",
     "output_type": "stream",
     "text": [
      "error= 30.546060836678777\n",
      "Weights [[-1.10803957  0.45079648 -0.52387316  0.13347052 -0.70026925  3.27626191\n",
      "  -0.52264276 -2.01889623  0.85852156 -0.46609106 -2.07654475  0.98998175\n",
      "  -2.95361238]]\n"
     ]
    }
   ],
   "source": [
    "w, b=manual_fit(X=manual_train, lr_rate_variation='invscaling' , n_iter=1000)\n",
    "y_pred=pred(X_test, w=w, b=b)\n",
    "manual_error=plot_(X_test,y_pred)\n",
    "print('Weights',w)"
   ]
  },
  {
   "cell_type": "code",
   "execution_count": 43,
   "metadata": {},
   "outputs": [],
   "source": [
    "new=[14, 'manual sgd', 0.0001, 'invscaling', 0.01, 0.25, 1000, manual_error,w]\n",
    "results.loc[14]=new"
   ]
  },
  {
   "cell_type": "markdown",
   "metadata": {},
   "source": [
    "### 4. n_iter=10000, lr_rate=0.01, lr_rate_variation='invscaling'"
   ]
  },
  {
   "cell_type": "code",
   "execution_count": 56,
   "metadata": {},
   "outputs": [
    {
     "data": {
      "image/png": "[encoded data removed]",
      "text/plain": [
       "<Figure size 432x288 with 1 Axes>"
      ]
     },
     "metadata": {},
     "output_type": "display_data"
    },
    {
     "name": "stdout",
     "output_type": "stream",
     "text": [
      "error= 28.936981524682626\n",
      "Weights [[-1.26070718  0.87652726 -0.386273    0.15368857 -1.44930645  2.71559288\n",
      "  -0.39834965 -2.77354308  2.42358659 -1.72069068 -2.04099146  1.08625862\n",
      "  -3.2961996 ]]\n"
     ]
    }
   ],
   "source": [
    "w, b=manual_fit(X=manual_train, lr_rate_variation='invscaling' , n_iter=10000)\n",
    "y_pred=pred(X_test, w=w, b=b)\n",
    "manual_error=plot_(X_test,y_pred)\n",
    "print('Weights',w)"
   ]
  },
  {
   "cell_type": "code",
   "execution_count": 45,
   "metadata": {},
   "outputs": [],
   "source": [
    "new=[16, 'manual sgd', 0.0001, 'invscaling', 0.01, 0.25, 10000, manual_error,w]\n",
    "results.loc[15]=new"
   ]
  },
  {
   "cell_type": "code",
   "execution_count": 46,
   "metadata": {},
   "outputs": [
    {
     "data": {
      "text/html": [
       "<div>\n",
       "<style scoped>\n",
       "    .dataframe tbody tr th:only-of-type {\n",
       "        vertical-align: middle;\n",
       "    }\n",
       "\n",
       "    .dataframe tbody tr th {\n",
       "        vertical-align: top;\n",
       "    }\n",
       "\n",
       "    .dataframe thead th {\n",
       "        text-align: right;\n",
       "    }\n",
       "</style>\n",
       "<table border=\"1\" class=\"dataframe\">\n",
       "  <thead>\n",
       "    <tr style=\"text-align: right;\">\n",
       "      <th></th>\n",
       "      <th>S_No</th>\n",
       "      <th>Algorithm</th>\n",
       "      <th>Alpha</th>\n",
       "      <th>LearningRateVariation</th>\n",
       "      <th>Learning Rate</th>\n",
       "      <th>Power_t</th>\n",
       "      <th>No. of Iterations</th>\n",
       "      <th>Mean Squared Error</th>\n",
       "      <th>Weights</th>\n",
       "    </tr>\n",
       "  </thead>\n",
       "  <tbody>\n",
       "    <tr>\n",
       "      <th>0</th>\n",
       "      <td>1</td>\n",
       "      <td>SGDRegressor</td>\n",
       "      <td>0.0001</td>\n",
       "      <td>constant</td>\n",
       "      <td>0.01</td>\n",
       "      <td>0.25</td>\n",
       "      <td>1</td>\n",
       "      <td>28.850593</td>\n",
       "      <td>[-1.1565381407732438, 0.6697488843919033, -0.0...</td>\n",
       "    </tr>\n",
       "    <tr>\n",
       "      <th>1</th>\n",
       "      <td>3</td>\n",
       "      <td>SGDRegressor</td>\n",
       "      <td>0.0001</td>\n",
       "      <td>constant</td>\n",
       "      <td>0.01</td>\n",
       "      <td>0.25</td>\n",
       "      <td>100</td>\n",
       "      <td>31.352492</td>\n",
       "      <td>[-0.8594253660728869, 0.7232099282317112, 0.15...</td>\n",
       "    </tr>\n",
       "    <tr>\n",
       "      <th>2</th>\n",
       "      <td>5</td>\n",
       "      <td>SGDRegressor</td>\n",
       "      <td>0.0001</td>\n",
       "      <td>constant</td>\n",
       "      <td>0.01</td>\n",
       "      <td>0.25</td>\n",
       "      <td>1000</td>\n",
       "      <td>27.446322</td>\n",
       "      <td>[-0.8490221325906337, 0.7274349802523941, -0.2...</td>\n",
       "    </tr>\n",
       "    <tr>\n",
       "      <th>3</th>\n",
       "      <td>7</td>\n",
       "      <td>SGDRegressor</td>\n",
       "      <td>0.0001</td>\n",
       "      <td>constant</td>\n",
       "      <td>0.01</td>\n",
       "      <td>0.25</td>\n",
       "      <td>10000</td>\n",
       "      <td>27.999420</td>\n",
       "      <td>[-1.135176685101957, 0.8664755810330862, -0.10...</td>\n",
       "    </tr>\n",
       "    <tr>\n",
       "      <th>4</th>\n",
       "      <td>2</td>\n",
       "      <td>manual sgd</td>\n",
       "      <td>0.0001</td>\n",
       "      <td>constant</td>\n",
       "      <td>0.01</td>\n",
       "      <td>0.25</td>\n",
       "      <td>1</td>\n",
       "      <td>570.095994</td>\n",
       "      <td>[[-0.16385130745117604, 0.08744690043599387, -...</td>\n",
       "    </tr>\n",
       "    <tr>\n",
       "      <th>5</th>\n",
       "      <td>4</td>\n",
       "      <td>manual sgd</td>\n",
       "      <td>0.0001</td>\n",
       "      <td>constant</td>\n",
       "      <td>0.01</td>\n",
       "      <td>0.25</td>\n",
       "      <td>100</td>\n",
       "      <td>39.942861</td>\n",
       "      <td>[[-0.6219409715223574, 0.7468919969577941, -0....</td>\n",
       "    </tr>\n",
       "    <tr>\n",
       "      <th>6</th>\n",
       "      <td>6</td>\n",
       "      <td>manual sgd</td>\n",
       "      <td>0.0001</td>\n",
       "      <td>constant</td>\n",
       "      <td>0.01</td>\n",
       "      <td>0.25</td>\n",
       "      <td>1000</td>\n",
       "      <td>28.414085</td>\n",
       "      <td>[[-1.2674707278739434, 0.7273049238948522, -0....</td>\n",
       "    </tr>\n",
       "    <tr>\n",
       "      <th>7</th>\n",
       "      <td>8</td>\n",
       "      <td>manual sgd</td>\n",
       "      <td>0.0001</td>\n",
       "      <td>constant</td>\n",
       "      <td>0.01</td>\n",
       "      <td>0.25</td>\n",
       "      <td>10000</td>\n",
       "      <td>27.826577</td>\n",
       "      <td>[[-1.2047934560688556, 0.9175234573905571, -0....</td>\n",
       "    </tr>\n",
       "    <tr>\n",
       "      <th>8</th>\n",
       "      <td>9</td>\n",
       "      <td>SGDRegressor</td>\n",
       "      <td>0.0001</td>\n",
       "      <td>invscaling</td>\n",
       "      <td>0.01</td>\n",
       "      <td>0.25</td>\n",
       "      <td>1</td>\n",
       "      <td>102.997654</td>\n",
       "      <td>[-0.8870551536554298, 0.5677459020587332, -0.5...</td>\n",
       "    </tr>\n",
       "    <tr>\n",
       "      <th>9</th>\n",
       "      <td>11</td>\n",
       "      <td>SGDRegressor</td>\n",
       "      <td>0.0001</td>\n",
       "      <td>invscaling</td>\n",
       "      <td>0.01</td>\n",
       "      <td>0.25</td>\n",
       "      <td>100</td>\n",
       "      <td>28.449169</td>\n",
       "      <td>[-1.2933623861904127, 0.8285425375267194, -0.2...</td>\n",
       "    </tr>\n",
       "    <tr>\n",
       "      <th>10</th>\n",
       "      <td>13</td>\n",
       "      <td>SGDRegressor</td>\n",
       "      <td>0.0001</td>\n",
       "      <td>invscaling</td>\n",
       "      <td>0.01</td>\n",
       "      <td>0.25</td>\n",
       "      <td>1000</td>\n",
       "      <td>28.421662</td>\n",
       "      <td>[-1.302398535012179, 0.8522263897707502, -0.15...</td>\n",
       "    </tr>\n",
       "    <tr>\n",
       "      <th>11</th>\n",
       "      <td>15</td>\n",
       "      <td>SGDRegressor</td>\n",
       "      <td>0.0001</td>\n",
       "      <td>invscaling</td>\n",
       "      <td>0.01</td>\n",
       "      <td>0.25</td>\n",
       "      <td>10000</td>\n",
       "      <td>28.594049</td>\n",
       "      <td>[-1.3134383232601816, 0.8658866233270134, -0.1...</td>\n",
       "    </tr>\n",
       "    <tr>\n",
       "      <th>12</th>\n",
       "      <td>10</td>\n",
       "      <td>manual sgd</td>\n",
       "      <td>0.0001</td>\n",
       "      <td>invscaling</td>\n",
       "      <td>0.01</td>\n",
       "      <td>0.25</td>\n",
       "      <td>1</td>\n",
       "      <td>576.576234</td>\n",
       "      <td>[[-0.15742251779771546, 0.050568062836999064, ...</td>\n",
       "    </tr>\n",
       "    <tr>\n",
       "      <th>13</th>\n",
       "      <td>12</td>\n",
       "      <td>manual sgd</td>\n",
       "      <td>0.0001</td>\n",
       "      <td>invscaling</td>\n",
       "      <td>0.01</td>\n",
       "      <td>0.25</td>\n",
       "      <td>100</td>\n",
       "      <td>137.622755</td>\n",
       "      <td>[[-0.6542615204524277, 0.34454609527638236, -0...</td>\n",
       "    </tr>\n",
       "    <tr>\n",
       "      <th>14</th>\n",
       "      <td>14</td>\n",
       "      <td>manual sgd</td>\n",
       "      <td>0.0001</td>\n",
       "      <td>invscaling</td>\n",
       "      <td>0.01</td>\n",
       "      <td>0.25</td>\n",
       "      <td>1000</td>\n",
       "      <td>29.198173</td>\n",
       "      <td>[[-0.9535008837079129, 0.5690156703435716, -0....</td>\n",
       "    </tr>\n",
       "    <tr>\n",
       "      <th>15</th>\n",
       "      <td>16</td>\n",
       "      <td>manual sgd</td>\n",
       "      <td>0.0001</td>\n",
       "      <td>invscaling</td>\n",
       "      <td>0.01</td>\n",
       "      <td>0.25</td>\n",
       "      <td>10000</td>\n",
       "      <td>28.536891</td>\n",
       "      <td>[[-1.2540957654038705, 0.8617983337484499, -0....</td>\n",
       "    </tr>\n",
       "  </tbody>\n",
       "</table>\n",
       "</div>"
      ],
      "text/plain": [
       "   S_No     Algorithm   Alpha LearningRateVariation  Learning Rate  Power_t  \\\n",
       "0     1  SGDRegressor  0.0001              constant           0.01     0.25   \n",
       "1     3  SGDRegressor  0.0001              constant           0.01     0.25   \n",
       "2     5  SGDRegressor  0.0001              constant           0.01     0.25   \n",
       "3     7  SGDRegressor  0.0001              constant           0.01     0.25   \n",
       "4     2    manual sgd  0.0001              constant           0.01     0.25   \n",
       "5     4    manual sgd  0.0001              constant           0.01     0.25   \n",
       "6     6    manual sgd  0.0001              constant           0.01     0.25   \n",
       "7     8    manual sgd  0.0001              constant           0.01     0.25   \n",
       "8     9  SGDRegressor  0.0001            invscaling           0.01     0.25   \n",
       "9    11  SGDRegressor  0.0001            invscaling           0.01     0.25   \n",
       "10   13  SGDRegressor  0.0001            invscaling           0.01     0.25   \n",
       "11   15  SGDRegressor  0.0001            invscaling           0.01     0.25   \n",
       "12   10    manual sgd  0.0001            invscaling           0.01     0.25   \n",
       "13   12    manual sgd  0.0001            invscaling           0.01     0.25   \n",
       "14   14    manual sgd  0.0001            invscaling           0.01     0.25   \n",
       "15   16    manual sgd  0.0001            invscaling           0.01     0.25   \n",
       "\n",
       "   No. of Iterations  Mean Squared Error  \\\n",
       "0                  1           28.850593   \n",
       "1                100           31.352492   \n",
       "2               1000           27.446322   \n",
       "3              10000           27.999420   \n",
       "4                  1          570.095994   \n",
       "5                100           39.942861   \n",
       "6               1000           28.414085   \n",
       "7              10000           27.826577   \n",
       "8                  1          102.997654   \n",
       "9                100           28.449169   \n",
       "10              1000           28.421662   \n",
       "11             10000           28.594049   \n",
       "12                 1          576.576234   \n",
       "13               100          137.622755   \n",
       "14              1000           29.198173   \n",
       "15             10000           28.536891   \n",
       "\n",
       "                                              Weights  \n",
       "0   [-1.1565381407732438, 0.6697488843919033, -0.0...  \n",
       "1   [-0.8594253660728869, 0.7232099282317112, 0.15...  \n",
       "2   [-0.8490221325906337, 0.7274349802523941, -0.2...  \n",
       "3   [-1.135176685101957, 0.8664755810330862, -0.10...  \n",
       "4   [[-0.16385130745117604, 0.08744690043599387, -...  \n",
       "5   [[-0.6219409715223574, 0.7468919969577941, -0....  \n",
       "6   [[-1.2674707278739434, 0.7273049238948522, -0....  \n",
       "7   [[-1.2047934560688556, 0.9175234573905571, -0....  \n",
       "8   [-0.8870551536554298, 0.5677459020587332, -0.5...  \n",
       "9   [-1.2933623861904127, 0.8285425375267194, -0.2...  \n",
       "10  [-1.302398535012179, 0.8522263897707502, -0.15...  \n",
       "11  [-1.3134383232601816, 0.8658866233270134, -0.1...  \n",
       "12  [[-0.15742251779771546, 0.050568062836999064, ...  \n",
       "13  [[-0.6542615204524277, 0.34454609527638236, -0...  \n",
       "14  [[-0.9535008837079129, 0.5690156703435716, -0....  \n",
       "15  [[-1.2540957654038705, 0.8617983337484499, -0....  "
      ]
     },
     "execution_count": 46,
     "metadata": {},
     "output_type": "execute_result"
    }
   ],
   "source": [
    "results"
   ]
  },
  {
   "cell_type": "code",
   "execution_count": 59,
   "metadata": {},
   "outputs": [
    {
     "name": "stdout",
     "output_type": "stream",
     "text": [
      "+--------------+-----------------------+---------------------------------------------------------------------------+\n",
      "|  Algorithm   | LearningRateVariation |                                  Weights                                  |\n",
      "+--------------+-----------------------+---------------------------------------------------------------------------+\n",
      "| SGDRegressor |        constant       |  -1.15653814  0.66974888 -0.08178764  0.6382138  -0.66797691  2.95215349  |\n",
      "|              |                       |   -0.10357986 -1.93735889  1.12825615 -0.2267697  -1.78106711  0.95286871 |\n",
      "|              |                       |                                 -2.90881683                               |\n",
      "| SGDRegressor |        constant       |  -0.85942537  0.72320993  0.15241913 -0.20932514 -1.58958236  2.10220312  |\n",
      "|              |                       |   -0.42111051 -2.62106115  2.84313703 -2.11489664 -1.95183196  0.66487723 |\n",
      "|              |                       |                                 -2.91904308                               |\n",
      "| SGDRegressor |        constant       |  -0.84902213  0.72743498 -0.21789725  0.29233084 -1.48915036  2.91588396  |\n",
      "|              |                       |    -0.14761927 -3.05222565  3.30506591 -2.10578481 -2.12863861  1.364138  |\n",
      "|              |                       |                                 -3.49369362                               |\n",
      "| SGDRegressor |        constant       |  -1.13517669  0.86647558 -0.10205221  0.38522716 -1.21459202  3.35612688  |\n",
      "|              |                       |   -0.17778189 -2.97663963  3.13116798 -2.18736619 -1.95867899  1.27876781 |\n",
      "|              |                       |                                 -3.66442607                               |\n",
      "|  Manual SGD  |        constant       |  -0.13911115  0.0308758  -0.2862618  -0.13815142 -0.01849442  0.44716359  |\n",
      "|              |                       |    0.02252312  0.06645053 -0.08661799 -0.18113118 -0.19971864  0.18560991 |\n",
      "|              |                       |                                 -0.38848135                               |\n",
      "|  Manual SGD  |        constant       |  -0.91092393 -0.39865859 -0.46309491  0.46539623 -0.33274583  3.75372959  |\n",
      "|              |                       |   -0.59358478 -1.14425155 -0.12028126 -0.55272547 -1.97045747  0.03828791 |\n",
      "|              |                       |                                 -2.48473031                               |\n",
      "|  Manual SGD  |        constant       |  -1.09842893  0.71713151 -0.34491403  0.43390619 -1.51403988  3.07271161  |\n",
      "|              |                       |   -0.30475742 -2.93154794  2.52490091 -1.23061076 -2.28491024  1.15251541 |\n",
      "|              |                       |                                 -3.44014592                               |\n",
      "|  Manual SGD  |        constant       |  -1.2810705   0.62158022 -0.2314401   0.21230283 -1.29425501  3.02833457  |\n",
      "|              |                       |   -0.28493935 -2.74803533  2.73872941 -2.29892697 -2.12457975  1.07042602 |\n",
      "|              |                       |                                 -3.27696886                               |\n",
      "| SGDRegressor |       invscaling      |   -0.88705515  0.5677459  -0.51420203  0.03466216 -0.02705333  2.6051155  |\n",
      "|              |                       |    -0.28325903 -1.11081536 -0.12236553 -0.45599899 -1.61426258  0.653454  |\n",
      "|              |                       |                                 -1.75822116                               |\n",
      "| SGDRegressor |       invscaling      |  -1.29336239  0.82854254 -0.27497766  0.20101891 -1.47344726  2.79825134  |\n",
      "|              |                       |   -0.33875611 -2.79947307  2.61375872 -1.85723028 -2.12409713  1.0481751  |\n",
      "|              |                       |                                 -3.31994023                               |\n",
      "| SGDRegressor |       invscaling      |  -1.30239854  0.85222639 -0.15526577  0.18210707 -1.47615506  2.77713541  |\n",
      "|              |                       |   -0.31543693 -2.78215437  2.99057655 -2.25975291 -2.12295185  1.04981189 |\n",
      "|              |                       |                                 -3.32165927                               |\n",
      "| SGDRegressor |       invscaling      |  -1.31343832  0.86588662 -0.1722845   0.18760379 -1.49323433  2.79333583  |\n",
      "|              |                       |   -0.32900798 -2.76801585  2.97317809 -2.27912365 -2.13716449  1.06037948 |\n",
      "|              |                       |                                -3.34155547                                |\n",
      "|  Manual SGD  |       invscaling      |  -0.05181692  0.11972694  0.04467098 -0.10294542 -0.10252764  0.02233647  |\n",
      "|              |                       |   -0.16686319  0.11033126 -0.06713689 -0.02492568 -0.09296145 -0.02184467 |\n",
      "|              |                       |                                 -0.09250086                               |\n",
      "|  Manual SGD  |       invscaling      |  -0.26878887  0.87360261 -0.57196422  0.45583587 -0.22374996  2.68056001  |\n",
      "|              |                       |    0.23336127 -0.5546656  -0.06070142 -0.7084285  -1.79297507  0.84340591 |\n",
      "|              |                       |                                 -1.60932098                               |\n",
      "|  Manual SGD  |       invscaling      |  -1.10803957  0.45079648 -0.52387316  0.13347052 -0.70026925  3.27626191  |\n",
      "|              |                       |   -0.52264276 -2.01889623  0.85852156 -0.46609106 -2.07654475  0.98998175 |\n",
      "|              |                       |                                 -2.95361238                               |\n",
      "|  Manual SGD  |       invscaling      |  -1.26070718  0.87652726 -0.386273    0.15368857 -1.44930645  2.71559288  |\n",
      "|              |                       |   -0.39834965 -2.77354308  2.42358659 -1.72069068 -2.04099146  1.08625862 |\n",
      "|              |                       |                                 -3.2961996                                |\n",
      "+--------------+-----------------------+---------------------------------------------------------------------------+\n"
     ]
    }
   ],
   "source": [
    "# Please compare all your models using Prettytable library\n",
    "# http://zetcode.com/python/prettytable/\n",
    "\n",
    "from prettytable import PrettyTable\n",
    "\n",
    "#If you get a ModuleNotFoundError error , install prettytable using: pip3 install prettytable\n",
    "\n",
    "x = PrettyTable()\n",
    "x.field_names = [\"Algorithm\", \"LearningRateVariation\", \"Weights\"]\n",
    "\n",
    "x.add_row([\"SGDRegressor\", \"constant\",'''-1.15653814  0.66974888 -0.08178764  0.6382138  -0.66797691  2.95215349\n",
    " -0.10357986 -1.93735889  1.12825615 -0.2267697  -1.78106711  0.95286871\n",
    " -2.90881683''' ])\n",
    "x.add_row([\"SGDRegressor\", \"constant\",'''-0.85942537  0.72320993  0.15241913 -0.20932514 -1.58958236  2.10220312\n",
    " -0.42111051 -2.62106115  2.84313703 -2.11489664 -1.95183196  0.66487723\n",
    " -2.91904308''' ])\n",
    "x.add_row([\"SGDRegressor\", \"constant\",'''-0.84902213  0.72743498 -0.21789725  0.29233084 -1.48915036  2.91588396\n",
    " -0.14761927 -3.05222565  3.30506591 -2.10578481 -2.12863861  1.364138\n",
    " -3.49369362''' ])\n",
    "x.add_row([\"SGDRegressor\", \"constant\",'''-1.13517669  0.86647558 -0.10205221  0.38522716 -1.21459202  3.35612688\n",
    " -0.17778189 -2.97663963  3.13116798 -2.18736619 -1.95867899  1.27876781\n",
    " -3.66442607''' ])\n",
    "x.add_row([\"Manual SGD\", \"constant\",'''-0.13911115  0.0308758  -0.2862618  -0.13815142 -0.01849442  0.44716359\n",
    "   0.02252312  0.06645053 -0.08661799 -0.18113118 -0.19971864  0.18560991\n",
    "  -0.38848135''' ])\n",
    "x.add_row([\"Manual SGD\", \"constant\",'''-0.91092393 -0.39865859 -0.46309491  0.46539623 -0.33274583  3.75372959\n",
    "  -0.59358478 -1.14425155 -0.12028126 -0.55272547 -1.97045747  0.03828791\n",
    "  -2.48473031''' ])\n",
    "x.add_row([\"Manual SGD\", \"constant\", '''-1.09842893  0.71713151 -0.34491403  0.43390619 -1.51403988  3.07271161\n",
    "  -0.30475742 -2.93154794  2.52490091 -1.23061076 -2.28491024  1.15251541\n",
    "  -3.44014592'''])\n",
    "x.add_row([\"Manual SGD\", \"constant\", '''-1.2810705   0.62158022 -0.2314401   0.21230283 -1.29425501  3.02833457\n",
    "  -0.28493935 -2.74803533  2.73872941 -2.29892697 -2.12457975  1.07042602\n",
    "  -3.27696886'''])\n",
    "x.add_row([\"SGDRegressor\", \"invscaling\",'''-0.88705515  0.5677459  -0.51420203  0.03466216 -0.02705333  2.6051155\n",
    " -0.28325903 -1.11081536 -0.12236553 -0.45599899 -1.61426258  0.653454\n",
    " -1.75822116''' ])\n",
    "x.add_row([\"SGDRegressor\", \"invscaling\",'''-1.29336239  0.82854254 -0.27497766  0.20101891 -1.47344726  2.79825134\n",
    " -0.33875611 -2.79947307  2.61375872 -1.85723028 -2.12409713  1.0481751\n",
    " -3.31994023''' ])\n",
    "x.add_row([\"SGDRegressor\", \"invscaling\", '''-1.30239854  0.85222639 -0.15526577  0.18210707 -1.47615506  2.77713541\n",
    " -0.31543693 -2.78215437  2.99057655 -2.25975291 -2.12295185  1.04981189\n",
    " -3.32165927'''])\n",
    "x.add_row([\"SGDRegressor\", \"invscaling\",'''-1.31343832  0.86588662 -0.1722845   0.18760379 -1.49323433  2.79333583\n",
    " -0.32900798 -2.76801585  2.97317809 -2.27912365 -2.13716449  1.06037948\n",
    " -3.34155547 '''])\n",
    "x.add_row([\"Manual SGD\", \"invscaling\",'''-0.05181692  0.11972694  0.04467098 -0.10294542 -0.10252764  0.02233647\n",
    "  -0.16686319  0.11033126 -0.06713689 -0.02492568 -0.09296145 -0.02184467\n",
    "  -0.09250086''' ])\n",
    "x.add_row([\"Manual SGD\", \"invscaling\",'''-0.26878887  0.87360261 -0.57196422  0.45583587 -0.22374996  2.68056001\n",
    "   0.23336127 -0.5546656  -0.06070142 -0.7084285  -1.79297507  0.84340591\n",
    "  -1.60932098''' ])\n",
    "x.add_row([\"Manual SGD\", \"invscaling\",'''-1.10803957  0.45079648 -0.52387316  0.13347052 -0.70026925  3.27626191\n",
    "  -0.52264276 -2.01889623  0.85852156 -0.46609106 -2.07654475  0.98998175\n",
    "  -2.95361238 '''])\n",
    "x.add_row([\"Manual SGD\", \"invscaling\",'''-1.26070718  0.87652726 -0.386273    0.15368857 -1.44930645  2.71559288\n",
    "  -0.39834965 -2.77354308  2.42358659 -1.72069068 -2.04099146  1.08625862\n",
    "  -3.2961996 '''])\n",
    "\n",
    "print(x)"
   ]
  },
  {
   "cell_type": "markdown",
   "metadata": {},
   "source": [
    "## Conclusion:\n",
    "* In both 'constant' and 'invscaling' implementation in SGDRegressor and ManualSGD Regressor, with higher number of iteration , manual sgd seems similar to SGDRegressor \n",
    "* In the results dataframe we can see that , In Manual SGD , error reduces with increasing in iteration number"
   ]
  },
  {
   "cell_type": "code",
   "execution_count": null,
   "metadata": {},
   "outputs": [],
   "source": []
  }
 ],
 "metadata": {
  "kernelspec": {
   "display_name": "Python 3",
   "language": "python",
   "name": "python3"
  },
  "language_info": {
   "codemirror_mode": {
    "name": "ipython",
    "version": 3
   },
   "file_extension": ".py",
   "mimetype": "text/x-python",
   "name": "python",
   "nbconvert_exporter": "python",
   "pygments_lexer": "ipython3",
   "version": "3.6.5"
  }
 },
 "nbformat": 4,
 "nbformat_minor": 2
}
